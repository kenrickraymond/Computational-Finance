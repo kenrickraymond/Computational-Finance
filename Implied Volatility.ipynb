{
 "cells": [
  {
   "attachments": {},
   "cell_type": "markdown",
   "metadata": {},
   "source": [
    "In order to find the implied volatility $\\sigma_{implied}$, one needs to find the inverse of the Black-Scholes Function wiith respect to $\\sigma_{implied}$. Unfortunately, no closed-form inverse exists so we resort to numerical methods such as the Newton-Raphson Method. The implied volatility can be calculated using the following equation:\n",
    "\n",
    "$$BS(\\sigma_{implied}, r, T, K, S_0) - V_{call}^{market} )$$"
   ]
  },
  {
   "attachments": {},
   "cell_type": "markdown",
   "metadata": {},
   "source": [
    "Under the assumption that $g(x) = BS(x) - V_{call}^{market}$ is differentiable, define $\\epsilon_x = x_{ex} - x_n$ and perform a taylor series expansion such that \n",
    "$$0 = g(x_{ex}) = g(x_n) + \\epsilon_n g'(x_n) + \\frac{\\epsilon_n^2}{2} g''(x_n)$$\n",
    "\n",
    "Plugging in the definition of $\\epsilon$ results in:\n",
    "$$x_{n+1} = x_{n} - \\frac{g(x_n)}{g'(x_n)}$$\n",
    "\n",
    "Note that $BS(x) = \\sigma_{implied}$, then the formula also has the following representation:\n",
    "$$\\sigma_{n+1} = \\sigma_n - \\frac{BS(\\sigma_n, \\cdot) - V_{call}^{market}}{ \\frac{\\partial BS(\\sigma_n, \\cdot)}{\\partial \\sigma_n} }$$\n",
    "\n",
    "Note that $\\frac{\\partial BS(\\sigma_n, \\cdot)}{\\partial \\sigma_n}$ is also known as vega and is known analytically"
   ]
  },
  {
   "cell_type": "code",
   "execution_count": 1,
   "metadata": {},
   "outputs": [
    {
     "name": "stdout",
     "output_type": "stream",
     "text": [
      "iteration 1.0 with error = 3.025413481792615\n",
      "iteration 2.0 with error = 0.19134998568795325\n",
      "iteration 3.0 with error = 0.0022254541477302325\n",
      "iteration 4.0 with error = 3.353154056640051e-07\n",
      "iteration 5.0 with error = 1.0658141036401503e-14\n",
      "Implied volatility for CallPrice= 2, strike K=120, \n",
      "      maturity T= 1, interest rate r= 0.05 and initial stock S_0=100 \n",
      "      equals to sigma_imp = 0.1614827\n",
      "Option Price for implied volatility of 0.1614827288413938 is equal to 2.0\n"
     ]
    }
   ],
   "source": [
    "import numpy as np\n",
    "import scipy.stats as st\n",
    "# Initial parameters and market quotes\n",
    "V_market = 2    # market call option price\n",
    "K        = 120  # strike\n",
    "tau      = 1    # time-to-maturity\n",
    "r        = 0.05 # interest rate\n",
    "S_0      = 100  # today's stock price\n",
    "sigmaInit    = 0.25  # Initial implied volatility\n",
    "CP       =\"c\" #C is call and P is put\n",
    "\n",
    "# Vega, dV/dsigma\n",
    "def dV_dsigma(S_0,K,sigma,tau,r):\n",
    "    #parameters and value of Vega\n",
    "    d2   = (np.log(S_0 / float(K)) + (r - 0.5 * np.power(sigma,2.0)) * tau) / float(sigma * np.sqrt(tau))\n",
    "    value = K * np.exp(-r * tau) * st.norm.pdf(d2) * np.sqrt(tau)\n",
    "    return value\n",
    "\n",
    "def BS_Call_Option_Price(CP,S_0,K,sigma,tau,r):\n",
    "    #Black-Scholes Call option price\n",
    "    d1    = (np.log(S_0 / float(K)) + (r + 0.5 * np.power(sigma,2.0)) * tau) / float(sigma * np.sqrt(tau))\n",
    "    d2    = d1 - sigma * np.sqrt(tau)\n",
    "    if str(CP).lower()==\"c\" or str(CP).lower()==\"1\":\n",
    "        value = st.norm.cdf(d1) * S_0 - st.norm.cdf(d2) * K * np.exp(-r * tau)\n",
    "    elif str(CP).lower()==\"p\" or str(CP).lower()==\"-1\":\n",
    "        value = st.norm.cdf(-d2) * K * np.exp(-r * tau) - st.norm.cdf(-d1)*S_0\n",
    "    return value\n",
    "\n",
    "def ImpliedVolatility(CP,S_0,K,sigma,tau,r):\n",
    "    error    = 1e10; # initial error\n",
    "    optPrice = lambda sigma: BS_Call_Option_Price(CP,S_0,K,sigma,tau,r)\n",
    "    vega = lambda sigma: dV_dsigma(S_0,K,sigma,tau,r)\n",
    "    \n",
    "    # While the difference between the model and the market price is large\n",
    "    # follow the iteration\n",
    "    n = 1.0 \n",
    "    while error>10e-10:\n",
    "        g         = optPrice(sigma) - V_market\n",
    "        g_prim    = vega(sigma)\n",
    "        sigma_new = sigma - g / g_prim\n",
    "    \n",
    "        #error=abs(sigma_new-sigma)\n",
    "        error=abs(g)\n",
    "        sigma=sigma_new;\n",
    "        \n",
    "        print('iteration {0} with error = {1}'.format(n,error))\n",
    "        \n",
    "        n= n+1\n",
    "    return sigma\n",
    "\n",
    "sigma_imp = ImpliedVolatility(CP,S_0,K,sigmaInit,tau,r)\n",
    "message = '''Implied volatility for CallPrice= {}, strike K={}, \n",
    "      maturity T= {}, interest rate r= {} and initial stock S_0={} \n",
    "      equals to sigma_imp = {:.7f}'''.format(V_market,K,tau,r,S_0,sigma_imp)\n",
    "            \n",
    "print(message)\n",
    "\n",
    "val = BS_Call_Option_Price(CP,S_0,K,sigma_imp,tau,r)\n",
    "\n",
    "# Verify the result for the option price is consistent with the assumption values\n",
    "print('Option Price for implied volatility of {0} is equal to {1}'.format(sigma_imp, val))"
   ]
  }
 ],
 "metadata": {
  "kernelspec": {
   "display_name": "Python 3",
   "language": "python",
   "name": "python3"
  },
  "language_info": {
   "codemirror_mode": {
    "name": "ipython",
    "version": 3
   },
   "file_extension": ".py",
   "mimetype": "text/x-python",
   "name": "python",
   "nbconvert_exporter": "python",
   "pygments_lexer": "ipython3",
   "version": "3.11.3"
  },
  "orig_nbformat": 4
 },
 "nbformat": 4,
 "nbformat_minor": 2
}
